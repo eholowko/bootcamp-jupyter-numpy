{
 "cells": [
  {
   "cell_type": "code",
   "execution_count": 6,
   "metadata": {
    "collapsed": false
   },
   "outputs": [],
   "source": [
    "import numpy as np\n",
    "import matplotlib as mpl\n",
    "import matplotlib.pyplot as plt"
   ]
  },
  {
   "cell_type": "code",
   "execution_count": 7,
   "metadata": {
    "collapsed": true
   },
   "outputs": [],
   "source": [
    "%matplotlib inline"
   ]
  },
  {
   "cell_type": "code",
   "execution_count": 8,
   "metadata": {
    "collapsed": true
   },
   "outputs": [],
   "source": [
    "import scipy.spatial"
   ]
  },
  {
   "cell_type": "code",
   "execution_count": 108,
   "metadata": {
    "collapsed": true
   },
   "outputs": [],
   "source": [
    "def generate_points(coord_min,coord_max,n):\n",
    "    '''generates n points in 3 clusters'''\n",
    "    n_3 = n // 3\n",
    "    coord_r = coord_max - coord_min\n",
    "    \n",
    "    A1 = np.random.uniform(coord_min,coord_min +coord_r/3,(n_3,2))\n",
    "    A2 = np.random.uniform(coord_max - coord_r/3,coord_max,(n_3,2))\n",
    "\n",
    "    A3_x = np.random.uniform(coord_min,coord_min + coord_r/3,n_3)[:,np.newaxis]\n",
    "    A3_y = np.random.uniform(coord_max - coord_r/ 3,coord_max,n_3)[:,np.newaxis]\n",
    "    A3 = np.hstack([A3_x,A3_y])\n",
    "\n",
    "    return np.vstack([A1,A2,A3])\n",
    "\n",
    "def generate_initial_mean(A,k):\n",
    "    '''randomly choose first guess of k means'''\n",
    "    ind = np.random.choice(A.shape[0],k,replace=False)\n",
    "    return A[ind]\n",
    "    \n",
    "def draw_points_with_means(A,sample):\n",
    "    '''draw scatter points with mean for each cluster'''\n",
    "    colors = np.array([\"#FF0000\",\"#00FF00\", \"#0000FF\", \"#F0F0FF\"])\n",
    "    plt.scatter(A[:,0],A[:,1]);\n",
    "    plt. scatter(sample[:,0],sample[:,1] ,s=500,alpha=0.4);"
   ]
  },
  {
   "cell_type": "code",
   "execution_count": 109,
   "metadata": {
    "collapsed": false
   },
   "outputs": [],
   "source": [
    "def k_means_clustering(A,sample,delta):\n",
    "    '''find k-means for each cluster\n",
    "    algorithm keeps converge untill RMS error is higher than delta'''\n",
    "    \n",
    "    sample_first = sample.copy()\n",
    "    RMS = A.max() - A.min()\n",
    "    count = 0\n",
    "    \n",
    "    while RMS > delta: \n",
    "        count = count + 1\n",
    "\n",
    "        dist = scipy.spatial.distance.cdist(A,sample,'sqeuclidean')\n",
    "        nearest = np.argsort(dist,axis=1)\n",
    "\n",
    "        sample_new = np.empty((sample.shape[0],sample.shape[1]))\n",
    "\n",
    "        for gr in range(len(sample)):\n",
    "            flag = (nearest[:,0] == gr)[:,np.newaxis]\n",
    "            if np.sum(flag) == 0:\n",
    "                sample_new[gr,:] = sample[gr,:]\n",
    "                continue\n",
    "            sample_new[gr,:] = np.sum(A * flag,axis = 0) / np.sum(flag)\n",
    "        RMS = np.sum(np.sum((sample_new - sample) ** 2,axis = 1)) / sample.shape[0]\n",
    "        #print(RMS)\n",
    "        sample[:,:] = sample_new[:,:]\n",
    "        \n",
    "    return sample,RMS,count"
   ]
  },
  {
   "cell_type": "code",
   "execution_count": 122,
   "metadata": {
    "collapsed": false
   },
   "outputs": [
    {
     "data": {
      "image/png": "[encoded data removed]",
      "text/plain": [
       "<matplotlib.figure.Figure at 0x7ff41b4745c0>"
      ]
     },
     "metadata": {},
     "output_type": "display_data"
    }
   ],
   "source": [
    "points = generate_points(0,10,100)\n",
    "sample = generate_initial_mean(points,3)\n",
    "draw_points_with_means(points,sample)"
   ]
  },
  {
   "cell_type": "code",
   "execution_count": 123,
   "metadata": {
    "collapsed": false
   },
   "outputs": [
    {
     "name": "stdout",
     "output_type": "stream",
     "text": [
      "Final RMS error : 0.0\n",
      "Algorithm has converged in 3 iteration\n"
     ]
    },
    {
     "data": {
      "image/png": "[encoded data removed]",
      "text/plain": [
       "<matplotlib.figure.Figure at 0x7ff41b2ce198>"
      ]
     },
     "metadata": {},
     "output_type": "display_data"
    }
   ],
   "source": [
    "sample_new,RMS,iter_nmb = k_means_clustering(points,sample,0.01)\n",
    "draw_points_with_means(points,sample_new)\n",
    "print('Final RMS error : {}'.format(RMS))\n",
    "print('Algorithm has converged in {} iteration'.format(iter_nmb))"
   ]
  }
 ],
 "metadata": {
  "kernelspec": {
   "display_name": "Python 3",
   "language": "python",
   "name": "python3"
  },
  "language_info": {
   "codemirror_mode": {
    "name": "ipython",
    "version": 3
   },
   "file_extension": ".py",
   "mimetype": "text/x-python",
   "name": "python",
   "nbconvert_exporter": "python",
   "pygments_lexer": "ipython3",
   "version": "3.6.0"
  }
 },
 "nbformat": 4,
 "nbformat_minor": 2
}
